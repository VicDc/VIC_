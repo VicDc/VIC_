{
  "nbformat": 4,
  "nbformat_minor": 0,
  "metadata": {
    "colab": {
      "provenance": [],
      "authorship_tag": "ABX9TyOXi6A6s50F5NvV2Ipvg47M",
      "include_colab_link": true
    },
    "kernelspec": {
      "name": "python3",
      "display_name": "Python 3"
    },
    "language_info": {
      "name": "python"
    }
  },
  "cells": [
    {
      "cell_type": "markdown",
      "metadata": {
        "id": "view-in-github",
        "colab_type": "text"
      },
      "source": [
        "<a href=\"https://colab.research.google.com/github/VicDc/VIC_/blob/main/shipment_tracking_w_t_CartoPY.ipynb\" target=\"_parent\"><img src=\"https://colab.research.google.com/assets/colab-badge.svg\" alt=\"Open In Colab\"/></a>"
      ]
    },
    {
      "cell_type": "code",
      "source": [
        "import xml.etree.ElementTree as ET\n",
        "import matplotlib.pyplot as plt\n",
        "import cartopy.crs as ccrs\n",
        "import cartopy.feature as cfeature\n",
        "from geopy.geocoders import Nominatim\n",
        "import time\n",
        "\n",
        "# === 1. Load the XML file ===\n",
        "# Example XML file:\n",
        "# <shipment>\n",
        "#    <checkpoint>\n",
        "#        <location>Wuxi, China</location>\n",
        "#        <datetime>2025-04-14T16:38</datetime>\n",
        "#        <status>Collected</status>\n",
        "#    </checkpoint>\n",
        "\n",
        "tree = ET.parse('shipment.xml')  # <-- Load shipment.xml\n",
        "root = tree.getroot()\n",
        "\n",
        "# === 2. Setup geolocator ===\n",
        "geolocator = Nominatim(user_agent=\"shipment_mapper\")\n",
        "\n",
        "# === 3. Extract points using geocoding ===\n",
        "lons, lats = [], []\n",
        "labels = []\n",
        "\n",
        "for checkpoint in root.findall('checkpoint'):\n",
        "    location = checkpoint.find('location').text\n",
        "    datetime = checkpoint.find('datetime').text\n",
        "    status = checkpoint.find('status').text\n",
        "\n",
        "    # Automatic geocoding\n",
        "    try:\n",
        "        geo_location = geolocator.geocode(location)\n",
        "        if geo_location:\n",
        "            lon, lat = geo_location.longitude, geo_location.latitude\n",
        "            lons.append(lon)\n",
        "            lats.append(lat)\n",
        "            labels.append(f\"{location}\\n{datetime}\\n{status}\")\n",
        "            print(f\"✅ Geocoding '{location}': {lat}, {lon}\")\n",
        "        else:\n",
        "            print(f\"⚠️ Not found: {location}\")\n",
        "    except Exception as e:\n",
        "        print(f\"❌ Geocoding error for {location}: {e}\")\n",
        "\n",
        "    # To avoid overloading the free server\n",
        "    time.sleep(1)\n",
        "\n",
        "# === 4. Create the map ===\n",
        "fig = plt.figure(figsize=(14, 8))\n",
        "ax = plt.axes(projection=ccrs.PlateCarree())\n",
        "\n",
        "# Base cartography\n",
        "ax.stock_img()\n",
        "ax.coastlines()\n",
        "ax.add_feature(cfeature.BORDERS, linestyle=':')\n",
        "\n",
        "# Draw the route\n",
        "ax.plot(lons, lats, color='blue', marker='o', markersize=5, linewidth=2, transform=ccrs.Geodetic())\n",
        "\n",
        "# Add annotations\n",
        "for lon, lat, label in zip(lons, lats, labels):\n",
        "    ax.text(lon + 1, lat + 1, label, transform=ccrs.Geodetic(), fontsize=8)\n",
        "\n",
        "# Dynamic zoom on the route\n",
        "if lons and lats:\n",
        "    margin = 10\n",
        "    ax.set_extent([\n",
        "        min(lons) - margin, max(lons) + margin,\n",
        "        min(lats) - margin, max(lats) + margin\n",
        "    ], crs=ccrs.PlateCarree())\n",
        "\n",
        "# Title\n",
        "plt.title('Shipment Route')\n",
        "\n",
        "# Save the image\n",
        "plt.savefig('shipment_route_auto_map.png', dpi=300)\n",
        "plt.close()\n",
        "\n",
        "print(\"✅ Automatic geographic map saved as 'shipment_route_auto_map.png'!\")\n"
      ],
      "metadata": {
        "id": "kTMK-lpptqsQ",
        "colab": {
          "base_uri": "https://localhost:8080/"
        },
        "outputId": "7aa95491-4f8c-4327-88bc-e7f9c6c4dd54"
      },
      "execution_count": null,
      "outputs": [
        {
          "output_type": "stream",
          "name": "stdout",
          "text": [
            "✅ Geocoding 'Wuxi, China': 31.5776626, 120.2952752\n",
            "✅ Geocoding 'Hong Kong': 22.350627, 114.1849161\n",
            "✅ Geocoding 'Amsterdam, Netherlands': 52.3730796, 4.8924534\n",
            "✅ Geocoding 'Rome, Italy': 41.8933203, 12.4829321\n",
            "✅ Automatic geographic map saved as 'shipment_route_auto_map.png'!\n"
          ]
        }
      ]
    },
    {
      "cell_type": "code",
      "source": [],
      "metadata": {
        "id": "4STQpvJGdVqX"
      },
      "execution_count": null,
      "outputs": []
    }
  ]
}